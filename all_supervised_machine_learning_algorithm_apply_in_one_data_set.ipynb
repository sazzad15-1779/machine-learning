{
  "nbformat": 4,
  "nbformat_minor": 0,
  "metadata": {
    "colab": {
      "name": "all supervised machine learning algorithm apply in one data set.ipynb",
      "provenance": [],
      "authorship_tag": "ABX9TyPZ9CNhIbpKF/vpwTBBDlzr",
      "include_colab_link": true
    },
    "kernelspec": {
      "name": "python3",
      "display_name": "Python 3"
    }
  },
  "cells": [
    {
      "cell_type": "markdown",
      "metadata": {
        "id": "view-in-github",
        "colab_type": "text"
      },
      "source": [
        "<a href=\"https://colab.research.google.com/github/sazzad15-1779/machine-learning/blob/master/all_supervised_machine_learning_algorithm_apply_in_one_data_set.ipynb\" target=\"_parent\"><img src=\"https://colab.research.google.com/assets/colab-badge.svg\" alt=\"Open In Colab\"/></a>"
      ]
    },
    {
      "cell_type": "code",
      "metadata": {
        "id": "mz4tEeLIbPHM",
        "colab_type": "code",
        "colab": {}
      },
      "source": [
        "import pandas as pd\n",
        "import numpy as np\n",
        "import matplotlib.pyplot as plt\n",
        "%matplotlib inline "
      ],
      "execution_count": 0,
      "outputs": []
    },
    {
      "cell_type": "code",
      "metadata": {
        "id": "fEvdbldfbRqa",
        "colab_type": "code",
        "outputId": "b0000c31-2307-44f3-d75e-81611e37bf53",
        "colab": {
          "base_uri": "https://localhost:8080/",
          "height": 142
        }
      },
      "source": [
        "data = pd.read_csv('https://raw.githubusercontent.com/shivang98/Social-Network-ads-Boost/master/Social_Network_Ads.csv')\n",
        "data.head(3)"
      ],
      "execution_count": 250,
      "outputs": [
        {
          "output_type": "execute_result",
          "data": {
            "text/html": [
              "<div>\n",
              "<style scoped>\n",
              "    .dataframe tbody tr th:only-of-type {\n",
              "        vertical-align: middle;\n",
              "    }\n",
              "\n",
              "    .dataframe tbody tr th {\n",
              "        vertical-align: top;\n",
              "    }\n",
              "\n",
              "    .dataframe thead th {\n",
              "        text-align: right;\n",
              "    }\n",
              "</style>\n",
              "<table border=\"1\" class=\"dataframe\">\n",
              "  <thead>\n",
              "    <tr style=\"text-align: right;\">\n",
              "      <th></th>\n",
              "      <th>User ID</th>\n",
              "      <th>Gender</th>\n",
              "      <th>Age</th>\n",
              "      <th>EstimatedSalary</th>\n",
              "      <th>Purchased</th>\n",
              "    </tr>\n",
              "  </thead>\n",
              "  <tbody>\n",
              "    <tr>\n",
              "      <th>0</th>\n",
              "      <td>15624510</td>\n",
              "      <td>Male</td>\n",
              "      <td>19</td>\n",
              "      <td>19000</td>\n",
              "      <td>0</td>\n",
              "    </tr>\n",
              "    <tr>\n",
              "      <th>1</th>\n",
              "      <td>15810944</td>\n",
              "      <td>Male</td>\n",
              "      <td>35</td>\n",
              "      <td>20000</td>\n",
              "      <td>0</td>\n",
              "    </tr>\n",
              "    <tr>\n",
              "      <th>2</th>\n",
              "      <td>15668575</td>\n",
              "      <td>Female</td>\n",
              "      <td>26</td>\n",
              "      <td>43000</td>\n",
              "      <td>0</td>\n",
              "    </tr>\n",
              "  </tbody>\n",
              "</table>\n",
              "</div>"
            ],
            "text/plain": [
              "    User ID  Gender  Age  EstimatedSalary  Purchased\n",
              "0  15624510    Male   19            19000          0\n",
              "1  15810944    Male   35            20000          0\n",
              "2  15668575  Female   26            43000          0"
            ]
          },
          "metadata": {
            "tags": []
          },
          "execution_count": 250
        }
      ]
    },
    {
      "cell_type": "markdown",
      "metadata": {
        "id": "K0wdK-4Abfzw",
        "colab_type": "text"
      },
      "source": [
        "# dummi values by Labelencoder"
      ]
    },
    {
      "cell_type": "code",
      "metadata": {
        "id": "iAPjVRwdbT2Y",
        "colab_type": "code",
        "outputId": "54b74d9a-5df3-40d0-ec79-38bcf3147784",
        "colab": {
          "base_uri": "https://localhost:8080/",
          "height": 204
        }
      },
      "source": [
        "from sklearn.preprocessing  import LabelEncoder\n",
        "l = LabelEncoder()\n",
        "data['Gender']=l.fit_transform(data['Gender'])\n",
        "data.head()"
      ],
      "execution_count": 251,
      "outputs": [
        {
          "output_type": "execute_result",
          "data": {
            "text/html": [
              "<div>\n",
              "<style scoped>\n",
              "    .dataframe tbody tr th:only-of-type {\n",
              "        vertical-align: middle;\n",
              "    }\n",
              "\n",
              "    .dataframe tbody tr th {\n",
              "        vertical-align: top;\n",
              "    }\n",
              "\n",
              "    .dataframe thead th {\n",
              "        text-align: right;\n",
              "    }\n",
              "</style>\n",
              "<table border=\"1\" class=\"dataframe\">\n",
              "  <thead>\n",
              "    <tr style=\"text-align: right;\">\n",
              "      <th></th>\n",
              "      <th>User ID</th>\n",
              "      <th>Gender</th>\n",
              "      <th>Age</th>\n",
              "      <th>EstimatedSalary</th>\n",
              "      <th>Purchased</th>\n",
              "    </tr>\n",
              "  </thead>\n",
              "  <tbody>\n",
              "    <tr>\n",
              "      <th>0</th>\n",
              "      <td>15624510</td>\n",
              "      <td>1</td>\n",
              "      <td>19</td>\n",
              "      <td>19000</td>\n",
              "      <td>0</td>\n",
              "    </tr>\n",
              "    <tr>\n",
              "      <th>1</th>\n",
              "      <td>15810944</td>\n",
              "      <td>1</td>\n",
              "      <td>35</td>\n",
              "      <td>20000</td>\n",
              "      <td>0</td>\n",
              "    </tr>\n",
              "    <tr>\n",
              "      <th>2</th>\n",
              "      <td>15668575</td>\n",
              "      <td>0</td>\n",
              "      <td>26</td>\n",
              "      <td>43000</td>\n",
              "      <td>0</td>\n",
              "    </tr>\n",
              "    <tr>\n",
              "      <th>3</th>\n",
              "      <td>15603246</td>\n",
              "      <td>0</td>\n",
              "      <td>27</td>\n",
              "      <td>57000</td>\n",
              "      <td>0</td>\n",
              "    </tr>\n",
              "    <tr>\n",
              "      <th>4</th>\n",
              "      <td>15804002</td>\n",
              "      <td>1</td>\n",
              "      <td>19</td>\n",
              "      <td>76000</td>\n",
              "      <td>0</td>\n",
              "    </tr>\n",
              "  </tbody>\n",
              "</table>\n",
              "</div>"
            ],
            "text/plain": [
              "    User ID  Gender  Age  EstimatedSalary  Purchased\n",
              "0  15624510       1   19            19000          0\n",
              "1  15810944       1   35            20000          0\n",
              "2  15668575       0   26            43000          0\n",
              "3  15603246       0   27            57000          0\n",
              "4  15804002       1   19            76000          0"
            ]
          },
          "metadata": {
            "tags": []
          },
          "execution_count": 251
        }
      ]
    },
    {
      "cell_type": "markdown",
      "metadata": {
        "id": "DCasdTxEchOZ",
        "colab_type": "text"
      },
      "source": [
        "# real_x,real_y"
      ]
    },
    {
      "cell_type": "code",
      "metadata": {
        "id": "RRDV_dfNcYlS",
        "colab_type": "code",
        "colab": {}
      },
      "source": [
        "x = data.drop(['User ID','Purchased'],axis=1)\n",
        "y = data['Purchased']\n"
      ],
      "execution_count": 0,
      "outputs": []
    },
    {
      "cell_type": "markdown",
      "metadata": {
        "id": "5AH_DGHYdwyR",
        "colab_type": "text"
      },
      "source": [
        "## split real data"
      ]
    },
    {
      "cell_type": "code",
      "metadata": {
        "id": "B_m08oboc03Y",
        "colab_type": "code",
        "colab": {}
      },
      "source": [
        "from sklearn.model_selection import train_test_split\n",
        "train_x,test_x,train_y,test_y= train_test_split(x,y,test_size =.25,random_state=10)"
      ],
      "execution_count": 0,
      "outputs": []
    },
    {
      "cell_type": "markdown",
      "metadata": {
        "id": "xo-r8A7vd18R",
        "colab_type": "text"
      },
      "source": [
        "## standarscaler"
      ]
    },
    {
      "cell_type": "code",
      "metadata": {
        "id": "j19K7Jtbdsrh",
        "colab_type": "code",
        "colab": {}
      },
      "source": [
        "from sklearn.preprocessing import StandardScaler\n",
        "scaler = StandardScaler()\n",
        "train_x=scaler.fit_transform(train_x)\n",
        "test_x=scaler.fit_transform(test_x)"
      ],
      "execution_count": 0,
      "outputs": []
    },
    {
      "cell_type": "markdown",
      "metadata": {
        "id": "HarKdKKDeynh",
        "colab_type": "text"
      },
      "source": [
        "## KNN apply"
      ]
    },
    {
      "cell_type": "code",
      "metadata": {
        "id": "ULqLIAqreaV2",
        "colab_type": "code",
        "outputId": "0abef872-b718-469e-c145-1244588dbd4f",
        "colab": {
          "base_uri": "https://localhost:8080/",
          "height": 68
        }
      },
      "source": [
        "from sklearn.neighbors import KNeighborsClassifier\n",
        "knn=KNeighborsClassifier(n_neighbors=15,metric = 'minkowski')\n",
        "knn.fit(train_x,train_y)\n"
      ],
      "execution_count": 255,
      "outputs": [
        {
          "output_type": "execute_result",
          "data": {
            "text/plain": [
              "KNeighborsClassifier(algorithm='auto', leaf_size=30, metric='minkowski',\n",
              "                     metric_params=None, n_jobs=None, n_neighbors=15, p=2,\n",
              "                     weights='uniform')"
            ]
          },
          "metadata": {
            "tags": []
          },
          "execution_count": 255
        }
      ]
    },
    {
      "cell_type": "code",
      "metadata": {
        "id": "E0mi8446gBfg",
        "colab_type": "code",
        "outputId": "d76ff367-ea0a-4258-f49e-a368698da730",
        "colab": {
          "base_uri": "https://localhost:8080/",
          "height": 102
        }
      },
      "source": [
        "knn.predict(test_x)"
      ],
      "execution_count": 256,
      "outputs": [
        {
          "output_type": "execute_result",
          "data": {
            "text/plain": [
              "array([0, 0, 0, 1, 0, 1, 0, 1, 0, 0, 0, 1, 1, 1, 1, 0, 0, 0, 0, 1, 0, 0,\n",
              "       0, 1, 1, 0, 0, 1, 1, 0, 0, 0, 0, 1, 1, 0, 1, 1, 0, 0, 0, 1, 0, 0,\n",
              "       0, 0, 1, 0, 0, 0, 1, 1, 1, 0, 0, 0, 1, 0, 1, 1, 0, 1, 0, 1, 1, 1,\n",
              "       0, 1, 0, 0, 0, 1, 0, 0, 0, 0, 0, 0, 1, 1, 0, 0, 0, 0, 0, 0, 0, 0,\n",
              "       0, 0, 1, 0, 0, 1, 0, 0, 1, 0, 0, 0])"
            ]
          },
          "metadata": {
            "tags": []
          },
          "execution_count": 256
        }
      ]
    },
    {
      "cell_type": "code",
      "metadata": {
        "id": "dZmrnCr0gaG_",
        "colab_type": "code",
        "outputId": "9c97a2b3-2e6b-4648-8df2-86d346622773",
        "colab": {
          "base_uri": "https://localhost:8080/",
          "height": 102
        }
      },
      "source": [
        "np.array(test_y)"
      ],
      "execution_count": 257,
      "outputs": [
        {
          "output_type": "execute_result",
          "data": {
            "text/plain": [
              "array([0, 0, 1, 0, 0, 1, 0, 0, 0, 0, 0, 0, 1, 1, 1, 0, 0, 0, 0, 1, 0, 0,\n",
              "       0, 1, 1, 0, 0, 1, 1, 0, 0, 0, 0, 1, 1, 0, 1, 1, 0, 0, 0, 1, 0, 0,\n",
              "       0, 0, 1, 0, 0, 0, 1, 1, 1, 0, 0, 0, 1, 0, 1, 1, 0, 1, 0, 1, 1, 0,\n",
              "       0, 1, 0, 0, 0, 1, 0, 0, 0, 0, 0, 0, 0, 1, 1, 0, 0, 0, 0, 0, 0, 0,\n",
              "       0, 0, 1, 0, 0, 0, 0, 0, 1, 0, 0, 0])"
            ]
          },
          "metadata": {
            "tags": []
          },
          "execution_count": 257
        }
      ]
    },
    {
      "cell_type": "code",
      "metadata": {
        "id": "76ex31P4gby3",
        "colab_type": "code",
        "outputId": "238e9094-beb4-4a1f-f36f-246846cca575",
        "colab": {
          "base_uri": "https://localhost:8080/",
          "height": 34
        }
      },
      "source": [
        "knn.score(test_x,test_y)"
      ],
      "execution_count": 258,
      "outputs": [
        {
          "output_type": "execute_result",
          "data": {
            "text/plain": [
              "0.92"
            ]
          },
          "metadata": {
            "tags": []
          },
          "execution_count": 258
        }
      ]
    },
    {
      "cell_type": "code",
      "metadata": {
        "id": "j98x7oEFhCZx",
        "colab_type": "code",
        "outputId": "04a1d18e-2792-44d6-c10a-798859c1a2c9",
        "colab": {
          "base_uri": "https://localhost:8080/",
          "height": 51
        }
      },
      "source": [
        "from sklearn.metrics import confusion_matrix\n",
        "confusion_matrix(test_y,knn.predict(test_x)) "
      ],
      "execution_count": 259,
      "outputs": [
        {
          "output_type": "execute_result",
          "data": {
            "text/plain": [
              "array([[63,  6],\n",
              "       [ 2, 29]])"
            ]
          },
          "metadata": {
            "tags": []
          },
          "execution_count": 259
        }
      ]
    },
    {
      "cell_type": "markdown",
      "metadata": {
        "id": "TTDTztK2iumr",
        "colab_type": "text"
      },
      "source": [
        "# random forest apply"
      ]
    },
    {
      "cell_type": "code",
      "metadata": {
        "id": "imU0ms9_hK1x",
        "colab_type": "code",
        "outputId": "2a86b278-6961-4853-85ee-22023cf558da",
        "colab": {
          "base_uri": "https://localhost:8080/",
          "height": 153
        }
      },
      "source": [
        "from sklearn.ensemble import RandomForestClassifier\n",
        "random = RandomForestClassifier(n_estimators=10,random_state=1)\n",
        "random.fit(train_x,train_y)\n",
        "\n",
        " "
      ],
      "execution_count": 260,
      "outputs": [
        {
          "output_type": "execute_result",
          "data": {
            "text/plain": [
              "RandomForestClassifier(bootstrap=True, ccp_alpha=0.0, class_weight=None,\n",
              "                       criterion='gini', max_depth=None, max_features='auto',\n",
              "                       max_leaf_nodes=None, max_samples=None,\n",
              "                       min_impurity_decrease=0.0, min_impurity_split=None,\n",
              "                       min_samples_leaf=1, min_samples_split=2,\n",
              "                       min_weight_fraction_leaf=0.0, n_estimators=10,\n",
              "                       n_jobs=None, oob_score=False, random_state=1, verbose=0,\n",
              "                       warm_start=False)"
            ]
          },
          "metadata": {
            "tags": []
          },
          "execution_count": 260
        }
      ]
    },
    {
      "cell_type": "code",
      "metadata": {
        "id": "jRPxnU7XhK4m",
        "colab_type": "code",
        "outputId": "4da23905-5496-4438-a21b-5570d78393d2",
        "colab": {
          "base_uri": "https://localhost:8080/",
          "height": 102
        }
      },
      "source": [
        "random.predict(test_x)"
      ],
      "execution_count": 261,
      "outputs": [
        {
          "output_type": "execute_result",
          "data": {
            "text/plain": [
              "array([0, 0, 1, 1, 0, 1, 0, 1, 0, 0, 0, 1, 1, 1, 1, 0, 0, 0, 0, 1, 0, 0,\n",
              "       0, 1, 1, 0, 0, 1, 1, 0, 0, 0, 0, 1, 1, 0, 1, 1, 0, 0, 0, 1, 0, 0,\n",
              "       0, 0, 1, 0, 0, 0, 1, 1, 1, 0, 0, 0, 1, 0, 1, 1, 0, 1, 0, 1, 1, 1,\n",
              "       0, 1, 0, 0, 0, 1, 0, 0, 0, 0, 0, 0, 1, 1, 0, 0, 0, 0, 0, 0, 0, 0,\n",
              "       0, 0, 1, 0, 0, 1, 0, 0, 1, 0, 0, 0])"
            ]
          },
          "metadata": {
            "tags": []
          },
          "execution_count": 261
        }
      ]
    },
    {
      "cell_type": "code",
      "metadata": {
        "id": "3nbMGlE5l_bC",
        "colab_type": "code",
        "outputId": "910406fc-1746-4b97-9291-7c377f5419c8",
        "colab": {
          "base_uri": "https://localhost:8080/",
          "height": 102
        }
      },
      "source": [
        "np.array(test_y)"
      ],
      "execution_count": 262,
      "outputs": [
        {
          "output_type": "execute_result",
          "data": {
            "text/plain": [
              "array([0, 0, 1, 0, 0, 1, 0, 0, 0, 0, 0, 0, 1, 1, 1, 0, 0, 0, 0, 1, 0, 0,\n",
              "       0, 1, 1, 0, 0, 1, 1, 0, 0, 0, 0, 1, 1, 0, 1, 1, 0, 0, 0, 1, 0, 0,\n",
              "       0, 0, 1, 0, 0, 0, 1, 1, 1, 0, 0, 0, 1, 0, 1, 1, 0, 1, 0, 1, 1, 0,\n",
              "       0, 1, 0, 0, 0, 1, 0, 0, 0, 0, 0, 0, 0, 1, 1, 0, 0, 0, 0, 0, 0, 0,\n",
              "       0, 0, 1, 0, 0, 0, 0, 0, 1, 0, 0, 0])"
            ]
          },
          "metadata": {
            "tags": []
          },
          "execution_count": 262
        }
      ]
    },
    {
      "cell_type": "code",
      "metadata": {
        "id": "0igvfVk0hK7Q",
        "colab_type": "code",
        "outputId": "5e1acebd-fefa-47f0-bc34-f2dbfda2313e",
        "colab": {
          "base_uri": "https://localhost:8080/",
          "height": 34
        }
      },
      "source": [
        "random.score(test_x,test_y)"
      ],
      "execution_count": 263,
      "outputs": [
        {
          "output_type": "execute_result",
          "data": {
            "text/plain": [
              "0.93"
            ]
          },
          "metadata": {
            "tags": []
          },
          "execution_count": 263
        }
      ]
    },
    {
      "cell_type": "code",
      "metadata": {
        "id": "ePSBlTrihLF4",
        "colab_type": "code",
        "outputId": "ee46bc24-1ae7-47df-9ee5-792ef92c6967",
        "colab": {
          "base_uri": "https://localhost:8080/",
          "height": 51
        }
      },
      "source": [
        "from sklearn.metrics import confusion_matrix\n",
        "confusion_matrix(test_y,random.predict(test_x)) "
      ],
      "execution_count": 264,
      "outputs": [
        {
          "output_type": "execute_result",
          "data": {
            "text/plain": [
              "array([[63,  6],\n",
              "       [ 1, 30]])"
            ]
          },
          "metadata": {
            "tags": []
          },
          "execution_count": 264
        }
      ]
    },
    {
      "cell_type": "code",
      "metadata": {
        "id": "SKahox-ghLIW",
        "colab_type": "code",
        "colab": {}
      },
      "source": [
        ""
      ],
      "execution_count": 0,
      "outputs": []
    },
    {
      "cell_type": "markdown",
      "metadata": {
        "id": "ZUNnAsyOmRKh",
        "colab_type": "text"
      },
      "source": [
        "# decision tree apply"
      ]
    },
    {
      "cell_type": "code",
      "metadata": {
        "id": "9WK3V-4KmV9c",
        "colab_type": "code",
        "outputId": "23cd4a22-52b4-4d93-b17f-ed9888aeed54",
        "colab": {
          "base_uri": "https://localhost:8080/",
          "height": 119
        }
      },
      "source": [
        "from sklearn.tree import DecisionTreeRegressor\n",
        "dec = DecisionTreeRegressor(random_state=1)\n",
        "dec.fit(train_x,train_y)"
      ],
      "execution_count": 265,
      "outputs": [
        {
          "output_type": "execute_result",
          "data": {
            "text/plain": [
              "DecisionTreeRegressor(ccp_alpha=0.0, criterion='mse', max_depth=None,\n",
              "                      max_features=None, max_leaf_nodes=None,\n",
              "                      min_impurity_decrease=0.0, min_impurity_split=None,\n",
              "                      min_samples_leaf=1, min_samples_split=2,\n",
              "                      min_weight_fraction_leaf=0.0, presort='deprecated',\n",
              "                      random_state=1, splitter='best')"
            ]
          },
          "metadata": {
            "tags": []
          },
          "execution_count": 265
        }
      ]
    },
    {
      "cell_type": "code",
      "metadata": {
        "id": "mj9SjHn_m0ex",
        "colab_type": "code",
        "outputId": "fcf86818-64ef-4358-c569-9770be062136",
        "colab": {
          "base_uri": "https://localhost:8080/",
          "height": 119
        }
      },
      "source": [
        "dec.predict(test_x)"
      ],
      "execution_count": 266,
      "outputs": [
        {
          "output_type": "execute_result",
          "data": {
            "text/plain": [
              "array([0., 1., 1., 0., 0., 1., 0., 1., 0., 0., 0., 1., 1., 1., 1., 0., 0.,\n",
              "       0., 0., 1., 0., 0., 0., 1., 1., 0., 0., 1., 1., 0., 0., 0., 0., 1.,\n",
              "       1., 0., 1., 1., 0., 0., 0., 1., 0., 0., 0., 0., 1., 0., 0., 0., 1.,\n",
              "       1., 1., 0., 0., 0., 1., 0., 1., 1., 0., 1., 0., 1., 1., 1., 0., 1.,\n",
              "       0., 0., 0., 1., 0., 0., 0., 0., 0., 0., 1., 1., 0., 0., 0., 0., 0.,\n",
              "       0., 0., 1., 0., 0., 1., 0., 0., 1., 0., 0., 1., 1., 0., 0.])"
            ]
          },
          "metadata": {
            "tags": []
          },
          "execution_count": 266
        }
      ]
    },
    {
      "cell_type": "code",
      "metadata": {
        "id": "Opxwe5PXpjKS",
        "colab_type": "code",
        "colab": {}
      },
      "source": [
        ""
      ],
      "execution_count": 0,
      "outputs": []
    },
    {
      "cell_type": "code",
      "metadata": {
        "id": "xotgR4esmitn",
        "colab_type": "code",
        "outputId": "6d372db7-7e19-45bf-ecd2-42d9ce48b09a",
        "colab": {
          "base_uri": "https://localhost:8080/",
          "height": 34
        }
      },
      "source": [
        "dec.score(test_x,test_y)"
      ],
      "execution_count": 267,
      "outputs": [
        {
          "output_type": "execute_result",
          "data": {
            "text/plain": [
              "0.579242636746143"
            ]
          },
          "metadata": {
            "tags": []
          },
          "execution_count": 267
        }
      ]
    },
    {
      "cell_type": "code",
      "metadata": {
        "id": "3F04VOgXmyCX",
        "colab_type": "code",
        "outputId": "1470bcb4-7ae5-4a15-8525-dfec02eedcf3",
        "colab": {
          "base_uri": "https://localhost:8080/",
          "height": 51
        }
      },
      "source": [
        "from sklearn.metrics import confusion_matrix\n",
        "confusion_matrix(test_y,dec.predict(test_x)) "
      ],
      "execution_count": 268,
      "outputs": [
        {
          "output_type": "execute_result",
          "data": {
            "text/plain": [
              "array([[61,  8],\n",
              "       [ 1, 30]])"
            ]
          },
          "metadata": {
            "tags": []
          },
          "execution_count": 268
        }
      ]
    },
    {
      "cell_type": "markdown",
      "metadata": {
        "id": "exjxVe4krnUw",
        "colab_type": "text"
      },
      "source": [
        ""
      ]
    },
    {
      "cell_type": "markdown",
      "metadata": {
        "id": "S4y8FsmQnUnT",
        "colab_type": "text"
      },
      "source": [
        "# supported vector machine (svm)"
      ]
    },
    {
      "cell_type": "code",
      "metadata": {
        "id": "88Mm0I2ysW-o",
        "colab_type": "code",
        "colab": {
          "base_uri": "https://localhost:8080/",
          "height": 85
        },
        "outputId": "cf9874f1-e2cb-481c-c37f-173a837f5d51"
      },
      "source": [
        "from sklearn.svm import SVC\n",
        "svm = SVC(random_state=0,kernel = 'linear')\n",
        "svm.fit(train_x,train_y)\n"
      ],
      "execution_count": 269,
      "outputs": [
        {
          "output_type": "execute_result",
          "data": {
            "text/plain": [
              "SVC(C=1.0, break_ties=False, cache_size=200, class_weight=None, coef0=0.0,\n",
              "    decision_function_shape='ovr', degree=3, gamma='scale', kernel='linear',\n",
              "    max_iter=-1, probability=False, random_state=0, shrinking=True, tol=0.001,\n",
              "    verbose=False)"
            ]
          },
          "metadata": {
            "tags": []
          },
          "execution_count": 269
        }
      ]
    },
    {
      "cell_type": "code",
      "metadata": {
        "id": "AcNjuul6tCiT",
        "colab_type": "code",
        "colab": {
          "base_uri": "https://localhost:8080/",
          "height": 102
        },
        "outputId": "81698d9f-19f7-4fae-82b2-9d32271d078e"
      },
      "source": [
        "svm.predict(test_x)"
      ],
      "execution_count": 270,
      "outputs": [
        {
          "output_type": "execute_result",
          "data": {
            "text/plain": [
              "array([0, 0, 1, 1, 0, 1, 0, 1, 0, 0, 0, 0, 1, 1, 0, 0, 0, 0, 0, 1, 0, 0,\n",
              "       0, 1, 1, 0, 0, 1, 1, 0, 0, 0, 0, 1, 1, 0, 1, 1, 0, 0, 0, 0, 0, 0,\n",
              "       0, 0, 1, 0, 0, 0, 0, 1, 1, 0, 0, 0, 1, 0, 1, 1, 0, 1, 0, 1, 1, 1,\n",
              "       0, 1, 0, 0, 0, 1, 0, 0, 0, 0, 0, 0, 1, 0, 0, 0, 0, 0, 0, 0, 0, 0,\n",
              "       0, 0, 1, 0, 0, 1, 0, 0, 1, 0, 0, 0])"
            ]
          },
          "metadata": {
            "tags": []
          },
          "execution_count": 270
        }
      ]
    },
    {
      "cell_type": "code",
      "metadata": {
        "id": "qRTGhTm5tn3X",
        "colab_type": "code",
        "colab": {
          "base_uri": "https://localhost:8080/",
          "height": 34
        },
        "outputId": "3e2599f1-b2f8-4ef4-d02e-4342357423db"
      },
      "source": [
        "svm.score(test_x,test_y)"
      ],
      "execution_count": 271,
      "outputs": [
        {
          "output_type": "execute_result",
          "data": {
            "text/plain": [
              "0.9"
            ]
          },
          "metadata": {
            "tags": []
          },
          "execution_count": 271
        }
      ]
    },
    {
      "cell_type": "code",
      "metadata": {
        "id": "PMCLblYCtr_3",
        "colab_type": "code",
        "colab": {
          "base_uri": "https://localhost:8080/",
          "height": 51
        },
        "outputId": "468413b4-9a0b-4598-a351-0b7cc9351c04"
      },
      "source": [
        "from sklearn.metrics import confusion_matrix\n",
        "confusion_matrix(test_y,svm.predict(test_x)) "
      ],
      "execution_count": 272,
      "outputs": [
        {
          "output_type": "execute_result",
          "data": {
            "text/plain": [
              "array([[64,  5],\n",
              "       [ 5, 26]])"
            ]
          },
          "metadata": {
            "tags": []
          },
          "execution_count": 272
        }
      ]
    },
    {
      "cell_type": "code",
      "metadata": {
        "id": "6AUthpxlt0wn",
        "colab_type": "code",
        "colab": {}
      },
      "source": [
        ""
      ],
      "execution_count": 0,
      "outputs": []
    },
    {
      "cell_type": "markdown",
      "metadata": {
        "id": "BORk78PgvkvD",
        "colab_type": "text"
      },
      "source": [
        "## Linear Regression apply"
      ]
    },
    {
      "cell_type": "code",
      "metadata": {
        "id": "92ZtXnMivo0Q",
        "colab_type": "code",
        "colab": {
          "base_uri": "https://localhost:8080/",
          "height": 34
        },
        "outputId": "7952f85e-9ede-4e2f-be25-50373bcd207d"
      },
      "source": [
        "from sklearn.linear_model import LinearRegression\n",
        "l_reg = LinearRegression()\n",
        "l_reg.fit(train_x,train_y)"
      ],
      "execution_count": 274,
      "outputs": [
        {
          "output_type": "execute_result",
          "data": {
            "text/plain": [
              "LinearRegression(copy_X=True, fit_intercept=True, n_jobs=None, normalize=False)"
            ]
          },
          "metadata": {
            "tags": []
          },
          "execution_count": 274
        }
      ]
    },
    {
      "cell_type": "code",
      "metadata": {
        "id": "6Ed_siuBw0WQ",
        "colab_type": "code",
        "colab": {
          "base_uri": "https://localhost:8080/",
          "height": 357
        },
        "outputId": "19faa155-264f-4d8d-fcab-60a4d9982088"
      },
      "source": [
        "l_reg.predict(test_x)"
      ],
      "execution_count": 275,
      "outputs": [
        {
          "output_type": "execute_result",
          "data": {
            "text/plain": [
              "array([ 0.49204786,  0.34638006,  0.5513621 ,  0.50986493, -0.10751041,\n",
              "        0.69923942,  0.32294317,  0.53403558,  0.28696771,  0.3981593 ,\n",
              "        0.44230541,  0.24844141,  1.19057696,  0.68527621,  0.42863655,\n",
              "        0.41234221,  0.17698105, -0.00179355, -0.01740109,  0.64098085,\n",
              "        0.01990089, -0.0238058 ,  0.40235448,  0.98353464,  0.79465072,\n",
              "        0.32284506,  0.36463656,  0.64454038,  0.52017049,  0.20949508,\n",
              "        0.13192435,  0.13916502,  0.17158094,  0.52618275,  0.82198846,\n",
              "        0.15739803,  0.68704216,  0.70630735,  0.36871015,  0.06566786,\n",
              "        0.38664882,  0.45013476, -0.15683691,  0.11776492,  0.28868668,\n",
              "        0.12387529,  0.88162052,  0.32294317,  0.3821593 ,  0.00596117,\n",
              "        0.36017053,  0.53914135,  0.52179135,  0.3426243 ,  0.40426967,\n",
              "        0.41030542,  0.74677233,  0.14142152,  0.60353378,  1.24225808,\n",
              "        0.13938473,  0.73055262,  0.3328328 ,  0.67666197,  1.06692142,\n",
              "        0.6253733 ,  0.49204786,  1.12483452, -0.28456603,  0.40804892,\n",
              "        0.39042807,  0.5376186 , -0.0217925 ,  0.10574039,  0.18696878,\n",
              "        0.38031874,  0.12355747, -0.10557173,  0.96365729,  0.44228193,\n",
              "        0.41825636,  0.3725875 , -0.04174448,  0.19513943, -0.18701982,\n",
              "        0.27656404,  0.03980173,  0.22500452, -0.29852923,  0.25099225,\n",
              "        0.83462514,  0.17911595,  0.13987529,  0.80066298,  0.09737352,\n",
              "       -0.18098407,  0.89180448,  0.20309037,  0.19104236,  0.24100452])"
            ]
          },
          "metadata": {
            "tags": []
          },
          "execution_count": 275
        }
      ]
    },
    {
      "cell_type": "code",
      "metadata": {
        "id": "-XZOJEeQw50J",
        "colab_type": "code",
        "colab": {
          "base_uri": "https://localhost:8080/",
          "height": 34
        },
        "outputId": "b69c8c32-a491-4850-87e5-70c084b579da"
      },
      "source": [
        "l_reg.score(test_x,test_y)"
      ],
      "execution_count": 276,
      "outputs": [
        {
          "output_type": "execute_result",
          "data": {
            "text/plain": [
              "0.46949857167175635"
            ]
          },
          "metadata": {
            "tags": []
          },
          "execution_count": 276
        }
      ]
    },
    {
      "cell_type": "markdown",
      "metadata": {
        "id": "K3hoqFQlxm_x",
        "colab_type": "text"
      },
      "source": [
        "# logistic regression"
      ]
    },
    {
      "cell_type": "code",
      "metadata": {
        "id": "lOiBzZu9xNdf",
        "colab_type": "code",
        "colab": {
          "base_uri": "https://localhost:8080/",
          "height": 102
        },
        "outputId": "f424e6a7-1bec-4f59-eaf7-02c421108021"
      },
      "source": [
        "from sklearn.linear_model import LogisticRegression\n",
        "log_reg = LogisticRegression()\n",
        "log_reg.fit(train_x,train_y) "
      ],
      "execution_count": 278,
      "outputs": [
        {
          "output_type": "execute_result",
          "data": {
            "text/plain": [
              "LogisticRegression(C=1.0, class_weight=None, dual=False, fit_intercept=True,\n",
              "                   intercept_scaling=1, l1_ratio=None, max_iter=100,\n",
              "                   multi_class='auto', n_jobs=None, penalty='l2',\n",
              "                   random_state=None, solver='lbfgs', tol=0.0001, verbose=0,\n",
              "                   warm_start=False)"
            ]
          },
          "metadata": {
            "tags": []
          },
          "execution_count": 278
        }
      ]
    },
    {
      "cell_type": "code",
      "metadata": {
        "id": "kccdabawxVbf",
        "colab_type": "code",
        "colab": {
          "base_uri": "https://localhost:8080/",
          "height": 102
        },
        "outputId": "9db8644e-c535-4252-a308-e448cc276313"
      },
      "source": [
        "log_reg.predict(test_x)"
      ],
      "execution_count": 280,
      "outputs": [
        {
          "output_type": "execute_result",
          "data": {
            "text/plain": [
              "array([0, 0, 1, 1, 0, 1, 0, 1, 0, 0, 0, 0, 1, 1, 0, 0, 0, 0, 0, 1, 0, 0,\n",
              "       0, 1, 1, 0, 0, 1, 1, 0, 0, 0, 0, 1, 1, 0, 1, 1, 0, 0, 0, 0, 0, 0,\n",
              "       0, 0, 1, 0, 0, 0, 0, 1, 1, 0, 0, 0, 1, 0, 1, 1, 0, 1, 0, 1, 1, 1,\n",
              "       0, 1, 0, 0, 0, 1, 0, 0, 0, 0, 0, 0, 1, 0, 0, 0, 0, 0, 0, 0, 0, 0,\n",
              "       0, 0, 1, 0, 0, 1, 0, 0, 1, 0, 0, 0])"
            ]
          },
          "metadata": {
            "tags": []
          },
          "execution_count": 280
        }
      ]
    },
    {
      "cell_type": "code",
      "metadata": {
        "id": "cj5Zj3iHyFwY",
        "colab_type": "code",
        "colab": {
          "base_uri": "https://localhost:8080/",
          "height": 34
        },
        "outputId": "a5a25d07-c758-405a-bc2c-d46029346277"
      },
      "source": [
        "log_reg.score(test_x,test_y)"
      ],
      "execution_count": 281,
      "outputs": [
        {
          "output_type": "execute_result",
          "data": {
            "text/plain": [
              "0.9"
            ]
          },
          "metadata": {
            "tags": []
          },
          "execution_count": 281
        }
      ]
    },
    {
      "cell_type": "code",
      "metadata": {
        "id": "zjeu3oynyQQP",
        "colab_type": "code",
        "colab": {
          "base_uri": "https://localhost:8080/",
          "height": 51
        },
        "outputId": "529bd2c7-6804-4bd6-b513-f547fda2174b"
      },
      "source": [
        "from sklearn.metrics import confusion_matrix\n",
        "confusion_matrix(test_y,log_reg.predict(test_x)) "
      ],
      "execution_count": 282,
      "outputs": [
        {
          "output_type": "execute_result",
          "data": {
            "text/plain": [
              "array([[64,  5],\n",
              "       [ 5, 26]])"
            ]
          },
          "metadata": {
            "tags": []
          },
          "execution_count": 282
        }
      ]
    },
    {
      "cell_type": "markdown",
      "metadata": {
        "id": "U3H7nxNjzYgT",
        "colab_type": "text"
      },
      "source": [
        "# polynomial regression\n"
      ]
    },
    {
      "cell_type": "code",
      "metadata": {
        "id": "__7QeRJYyacX",
        "colab_type": "code",
        "colab": {}
      },
      "source": [
        "from sklearn.preprocessing import PolynomialFeatures\n",
        "poly_reg = PolynomialFeatures(degree=3)\n",
        "x_poly =poly_reg.fit_transform(train_x)\n",
        "x_test = poly_reg.fit_transform(test_x)"
      ],
      "execution_count": 0,
      "outputs": []
    },
    {
      "cell_type": "code",
      "metadata": {
        "id": "fb5c_MXizmFX",
        "colab_type": "code",
        "colab": {
          "base_uri": "https://localhost:8080/",
          "height": 34
        },
        "outputId": "9cdeecfe-523a-4f24-f14c-7547fbb2a996"
      },
      "source": [
        "linear_poly_reg = LinearRegression()\n",
        "linear_poly_reg.fit(x_poly,train_y)"
      ],
      "execution_count": 289,
      "outputs": [
        {
          "output_type": "execute_result",
          "data": {
            "text/plain": [
              "LinearRegression(copy_X=True, fit_intercept=True, n_jobs=None, normalize=False)"
            ]
          },
          "metadata": {
            "tags": []
          },
          "execution_count": 289
        }
      ]
    },
    {
      "cell_type": "code",
      "metadata": {
        "id": "Hbu5tv4o0SkW",
        "colab_type": "code",
        "colab": {}
      },
      "source": [
        "linear_poly_reg.predict(x_test)"
      ],
      "execution_count": 0,
      "outputs": []
    },
    {
      "cell_type": "code",
      "metadata": {
        "id": "2Ko7p1Z50Whn",
        "colab_type": "code",
        "colab": {
          "base_uri": "https://localhost:8080/",
          "height": 34
        },
        "outputId": "f892fa41-05d5-44bd-b2f5-8af1fde57256"
      },
      "source": [
        "linear_poly_reg.score(x_test,test_y)"
      ],
      "execution_count": 291,
      "outputs": [
        {
          "output_type": "execute_result",
          "data": {
            "text/plain": [
              "-8.170401045569122e+23"
            ]
          },
          "metadata": {
            "tags": []
          },
          "execution_count": 291
        }
      ]
    },
    {
      "cell_type": "markdown",
      "metadata": {
        "id": "VCVjo_yi1CTb",
        "colab_type": "text"
      },
      "source": [
        "# lasso regression"
      ]
    },
    {
      "cell_type": "code",
      "metadata": {
        "id": "uDIX_p1R08V5",
        "colab_type": "code",
        "colab": {
          "base_uri": "https://localhost:8080/",
          "height": 68
        },
        "outputId": "8af5365f-90fa-48f5-c61c-4b3cd459ad5c"
      },
      "source": [
        "from sklearn.linear_model import Lasso\n",
        "lasso_reg = Lasso(random_state=0)\n",
        "lasso_reg.fit(train_x,train_y)\n"
      ],
      "execution_count": 294,
      "outputs": [
        {
          "output_type": "execute_result",
          "data": {
            "text/plain": [
              "Lasso(alpha=1.0, copy_X=True, fit_intercept=True, max_iter=1000,\n",
              "      normalize=False, positive=False, precompute=False, random_state=0,\n",
              "      selection='cyclic', tol=0.0001, warm_start=False)"
            ]
          },
          "metadata": {
            "tags": []
          },
          "execution_count": 294
        }
      ]
    },
    {
      "cell_type": "code",
      "metadata": {
        "id": "Z_R7760U1PX_",
        "colab_type": "code",
        "colab": {
          "base_uri": "https://localhost:8080/",
          "height": 357
        },
        "outputId": "5d051c00-7406-4994-8cd8-10399b98ab51"
      },
      "source": [
        "lasso_reg.predict(test_x)"
      ],
      "execution_count": 296,
      "outputs": [
        {
          "output_type": "execute_result",
          "data": {
            "text/plain": [
              "array([0.37333333, 0.37333333, 0.37333333, 0.37333333, 0.37333333,\n",
              "       0.37333333, 0.37333333, 0.37333333, 0.37333333, 0.37333333,\n",
              "       0.37333333, 0.37333333, 0.37333333, 0.37333333, 0.37333333,\n",
              "       0.37333333, 0.37333333, 0.37333333, 0.37333333, 0.37333333,\n",
              "       0.37333333, 0.37333333, 0.37333333, 0.37333333, 0.37333333,\n",
              "       0.37333333, 0.37333333, 0.37333333, 0.37333333, 0.37333333,\n",
              "       0.37333333, 0.37333333, 0.37333333, 0.37333333, 0.37333333,\n",
              "       0.37333333, 0.37333333, 0.37333333, 0.37333333, 0.37333333,\n",
              "       0.37333333, 0.37333333, 0.37333333, 0.37333333, 0.37333333,\n",
              "       0.37333333, 0.37333333, 0.37333333, 0.37333333, 0.37333333,\n",
              "       0.37333333, 0.37333333, 0.37333333, 0.37333333, 0.37333333,\n",
              "       0.37333333, 0.37333333, 0.37333333, 0.37333333, 0.37333333,\n",
              "       0.37333333, 0.37333333, 0.37333333, 0.37333333, 0.37333333,\n",
              "       0.37333333, 0.37333333, 0.37333333, 0.37333333, 0.37333333,\n",
              "       0.37333333, 0.37333333, 0.37333333, 0.37333333, 0.37333333,\n",
              "       0.37333333, 0.37333333, 0.37333333, 0.37333333, 0.37333333,\n",
              "       0.37333333, 0.37333333, 0.37333333, 0.37333333, 0.37333333,\n",
              "       0.37333333, 0.37333333, 0.37333333, 0.37333333, 0.37333333,\n",
              "       0.37333333, 0.37333333, 0.37333333, 0.37333333, 0.37333333,\n",
              "       0.37333333, 0.37333333, 0.37333333, 0.37333333, 0.37333333])"
            ]
          },
          "metadata": {
            "tags": []
          },
          "execution_count": 296
        }
      ]
    },
    {
      "cell_type": "code",
      "metadata": {
        "id": "-86QGw0b1lDv",
        "colab_type": "code",
        "colab": {
          "base_uri": "https://localhost:8080/",
          "height": 34
        },
        "outputId": "1cf939f4-cf54-4505-ac0e-23df117f11cc"
      },
      "source": [
        "lasso_reg.score(test_x,test_y)"
      ],
      "execution_count": 297,
      "outputs": [
        {
          "output_type": "execute_result",
          "data": {
            "text/plain": [
              "-0.018752272609215748"
            ]
          },
          "metadata": {
            "tags": []
          },
          "execution_count": 297
        }
      ]
    },
    {
      "cell_type": "code",
      "metadata": {
        "id": "tu2izxZ113Ln",
        "colab_type": "code",
        "colab": {}
      },
      "source": [
        ""
      ],
      "execution_count": 0,
      "outputs": []
    },
    {
      "cell_type": "markdown",
      "metadata": {
        "id": "h8-MIbf92FmU",
        "colab_type": "text"
      },
      "source": [
        "# Ridge regression"
      ]
    },
    {
      "cell_type": "code",
      "metadata": {
        "id": "m_TL-bn22Inp",
        "colab_type": "code",
        "colab": {
          "base_uri": "https://localhost:8080/",
          "height": 51
        },
        "outputId": "3e3ca280-0a45-4177-e3d1-57cd7e3d0901"
      },
      "source": [
        "from sklearn.linear_model import Ridge\n",
        "rid_reg =Ridge(random_state=0)\n",
        "rid_reg.fit(train_x,train_y)\n"
      ],
      "execution_count": 301,
      "outputs": [
        {
          "output_type": "execute_result",
          "data": {
            "text/plain": [
              "Ridge(alpha=1.0, copy_X=True, fit_intercept=True, max_iter=None,\n",
              "      normalize=False, random_state=0, solver='auto', tol=0.001)"
            ]
          },
          "metadata": {
            "tags": []
          },
          "execution_count": 301
        }
      ]
    },
    {
      "cell_type": "code",
      "metadata": {
        "id": "GZoNEvWf2Uw-",
        "colab_type": "code",
        "colab": {
          "base_uri": "https://localhost:8080/",
          "height": 442
        },
        "outputId": "689a4215-d461-4c18-9405-be26e6d172c1"
      },
      "source": [
        "rid_reg.predict(test_x)"
      ],
      "execution_count": 302,
      "outputs": [
        {
          "output_type": "execute_result",
          "data": {
            "text/plain": [
              "array([ 4.91589871e-01,  3.46552103e-01,  5.50951800e-01,  5.09427719e-01,\n",
              "       -1.05978368e-01,  6.98110526e-01,  3.22938508e-01,  5.33362554e-01,\n",
              "        2.87140454e-01,  3.98166487e-01,  4.41983604e-01,  2.49099085e-01,\n",
              "        1.18813544e+00,  6.84202872e-01,  4.28225111e-01,  4.12160180e-01,\n",
              "        1.77751579e-01, -7.05166634e-04, -1.64220560e-02,  6.40259511e-01,\n",
              "        2.10494735e-02, -2.25955660e-02,  4.02219038e-01,  9.81741033e-01,\n",
              "        7.93306828e-01,  3.22888787e-01,  3.64562029e-01,  6.44040544e-01,\n",
              "        5.19504620e-01,  2.09818320e-01,  1.32446465e-01,  1.40044850e-01,\n",
              "        1.72061870e-01,  5.25479249e-01,  8.20823814e-01,  1.58068177e-01,\n",
              "        6.86048426e-01,  7.05596069e-01,  3.68578262e-01,  6.66892279e-02,\n",
              "        3.86452429e-01,  4.49880311e-01, -1.55399156e-01,  1.18439370e-01,\n",
              "        2.89012811e-01,  1.24463720e-01,  8.80321502e-01,  3.22938508e-01,\n",
              "        3.82250716e-01,  7.12841789e-03,  3.60346915e-01,  5.38903102e-01,\n",
              "        5.21327257e-01,  3.42671630e-01,  4.04190836e-01,  4.10152063e-01,\n",
              "        7.45595835e-01,  1.42139005e-01,  6.02765065e-01,  1.23970011e+00,\n",
              "        1.40130889e-01,  7.29594025e-01,  3.32829929e-01,  6.75908404e-01,\n",
              "        1.06498808e+00,  6.24542622e-01,  4.91589871e-01,  1.12261341e+00,\n",
              "       -2.82562757e-01,  4.08057908e-01,  3.90319501e-01,  5.37130185e-01,\n",
              "       -2.05740480e-02,  1.06490113e-01,  1.87692721e-01,  3.80342041e-01,\n",
              "        1.24327961e-01, -1.04019972e-01,  9.61908471e-01,  4.41997006e-01,\n",
              "        4.18085088e-01,  3.72495054e-01, -4.04697326e-02,  1.95711785e-01,\n",
              "       -1.85308619e-01,  2.77013833e-01,  4.08686346e-02,  2.25485489e-01,\n",
              "       -2.96470411e-01,  2.51342401e-01,  8.33057992e-01,  1.79809416e-01,\n",
              "        1.40379490e-01,  7.99281456e-01,  9.83716080e-02, -1.79347392e-01,\n",
              "        8.90362084e-01,  2.03644810e-01,  1.91708953e-01,  2.41401259e-01])"
            ]
          },
          "metadata": {
            "tags": []
          },
          "execution_count": 302
        }
      ]
    },
    {
      "cell_type": "code",
      "metadata": {
        "id": "5V-SfWKl2idg",
        "colab_type": "code",
        "colab": {
          "base_uri": "https://localhost:8080/",
          "height": 34
        },
        "outputId": "3bd44817-e6bd-49b8-e317-95fbe6014fb1"
      },
      "source": [
        "rid_reg.score(test_x,test_y)"
      ],
      "execution_count": 303,
      "outputs": [
        {
          "output_type": "execute_result",
          "data": {
            "text/plain": [
              "0.46952080199577556"
            ]
          },
          "metadata": {
            "tags": []
          },
          "execution_count": 303
        }
      ]
    },
    {
      "cell_type": "code",
      "metadata": {
        "id": "iit7WDLJ2wYH",
        "colab_type": "code",
        "colab": {}
      },
      "source": [
        ""
      ],
      "execution_count": 0,
      "outputs": []
    },
    {
      "cell_type": "markdown",
      "metadata": {
        "id": "1XMcGJMA2y1s",
        "colab_type": "text"
      },
      "source": [
        "# elastic net regression"
      ]
    },
    {
      "cell_type": "code",
      "metadata": {
        "id": "jIFRjxtT210X",
        "colab_type": "code",
        "colab": {
          "base_uri": "https://localhost:8080/",
          "height": 68
        },
        "outputId": "5220c885-252b-441e-fa53-da7e389fdca6"
      },
      "source": [
        "from sklearn.linear_model import ElasticNet\n",
        "elastic_reg =ElasticNet(random_state=0)\n",
        "elastic_reg.fit(train_x,train_y) "
      ],
      "execution_count": 306,
      "outputs": [
        {
          "output_type": "execute_result",
          "data": {
            "text/plain": [
              "ElasticNet(alpha=1.0, copy_X=True, fit_intercept=True, l1_ratio=0.5,\n",
              "           max_iter=1000, normalize=False, positive=False, precompute=False,\n",
              "           random_state=0, selection='cyclic', tol=0.0001, warm_start=False)"
            ]
          },
          "metadata": {
            "tags": []
          },
          "execution_count": 306
        }
      ]
    },
    {
      "cell_type": "code",
      "metadata": {
        "id": "YjVPHMqP2-Qn",
        "colab_type": "code",
        "colab": {
          "base_uri": "https://localhost:8080/",
          "height": 357
        },
        "outputId": "f4d87cad-0021-431e-e6de-7a06e1e8da88"
      },
      "source": [
        "elastic_reg.predict(test_x)"
      ],
      "execution_count": 307,
      "outputs": [
        {
          "output_type": "execute_result",
          "data": {
            "text/plain": [
              "array([0.37333333, 0.37333333, 0.37333333, 0.37333333, 0.37333333,\n",
              "       0.37333333, 0.37333333, 0.37333333, 0.37333333, 0.37333333,\n",
              "       0.37333333, 0.37333333, 0.37333333, 0.37333333, 0.37333333,\n",
              "       0.37333333, 0.37333333, 0.37333333, 0.37333333, 0.37333333,\n",
              "       0.37333333, 0.37333333, 0.37333333, 0.37333333, 0.37333333,\n",
              "       0.37333333, 0.37333333, 0.37333333, 0.37333333, 0.37333333,\n",
              "       0.37333333, 0.37333333, 0.37333333, 0.37333333, 0.37333333,\n",
              "       0.37333333, 0.37333333, 0.37333333, 0.37333333, 0.37333333,\n",
              "       0.37333333, 0.37333333, 0.37333333, 0.37333333, 0.37333333,\n",
              "       0.37333333, 0.37333333, 0.37333333, 0.37333333, 0.37333333,\n",
              "       0.37333333, 0.37333333, 0.37333333, 0.37333333, 0.37333333,\n",
              "       0.37333333, 0.37333333, 0.37333333, 0.37333333, 0.37333333,\n",
              "       0.37333333, 0.37333333, 0.37333333, 0.37333333, 0.37333333,\n",
              "       0.37333333, 0.37333333, 0.37333333, 0.37333333, 0.37333333,\n",
              "       0.37333333, 0.37333333, 0.37333333, 0.37333333, 0.37333333,\n",
              "       0.37333333, 0.37333333, 0.37333333, 0.37333333, 0.37333333,\n",
              "       0.37333333, 0.37333333, 0.37333333, 0.37333333, 0.37333333,\n",
              "       0.37333333, 0.37333333, 0.37333333, 0.37333333, 0.37333333,\n",
              "       0.37333333, 0.37333333, 0.37333333, 0.37333333, 0.37333333,\n",
              "       0.37333333, 0.37333333, 0.37333333, 0.37333333, 0.37333333])"
            ]
          },
          "metadata": {
            "tags": []
          },
          "execution_count": 307
        }
      ]
    },
    {
      "cell_type": "code",
      "metadata": {
        "id": "baEA8cOB3R9w",
        "colab_type": "code",
        "colab": {
          "base_uri": "https://localhost:8080/",
          "height": 34
        },
        "outputId": "4a28f747-1225-44b6-be05-accef10eebf9"
      },
      "source": [
        "elastic_reg.score(test_x,test_y)"
      ],
      "execution_count": 308,
      "outputs": [
        {
          "output_type": "execute_result",
          "data": {
            "text/plain": [
              "-0.018752272609215748"
            ]
          },
          "metadata": {
            "tags": []
          },
          "execution_count": 308
        }
      ]
    },
    {
      "cell_type": "code",
      "metadata": {
        "id": "CZv_kbaB3lUH",
        "colab_type": "code",
        "colab": {}
      },
      "source": [
        ""
      ],
      "execution_count": 0,
      "outputs": []
    }
  ]
}