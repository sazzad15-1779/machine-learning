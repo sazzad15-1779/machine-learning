{
  "nbformat": 4,
  "nbformat_minor": 0,
  "metadata": {
    "colab": {
      "name": "linear regression.ipynb",
      "provenance": [],
      "collapsed_sections": [],
      "authorship_tag": "ABX9TyP/gsll7Xblv4Z9VHeuob7b",
      "include_colab_link": true
    },
    "kernelspec": {
      "name": "python3",
      "display_name": "Python 3"
    }
  },
  "cells": [
    {
      "cell_type": "markdown",
      "metadata": {
        "id": "view-in-github",
        "colab_type": "text"
      },
      "source": [
        "<a href=\"https://colab.research.google.com/github/sazzad15-1779/machine-learning/blob/master/linear_regression.ipynb\" target=\"_parent\"><img src=\"https://colab.research.google.com/assets/colab-badge.svg\" alt=\"Open In Colab\"/></a>"
      ]
    },
    {
      "cell_type": "markdown",
      "metadata": {
        "id": "PV2s2rLN1su2",
        "colab_type": "text"
      },
      "source": [
        "# ***Find the line of  Home price and area***\n"
      ]
    },
    {
      "cell_type": "markdown",
      "metadata": {
        "id": "KJBw8X91bVVB",
        "colab_type": "text"
      },
      "source": [
        "### **import library**"
      ]
    },
    {
      "cell_type": "markdown",
      "metadata": {
        "id": "tFPTMHRXesPb",
        "colab_type": "text"
      },
      "source": [
        ""
      ]
    },
    {
      "cell_type": "code",
      "metadata": {
        "id": "L1uQlKZXqF5R",
        "colab_type": "code",
        "colab": {}
      },
      "source": [
        "import pandas as pd\n",
        "import numpy as np\n",
        "import matplotlib.pyplot as plt\n",
        "%matplotlib inline\n",
        "from sklearn import linear_model\n",
        "from sklearn.model_selection import train_test_split"
      ],
      "execution_count": 0,
      "outputs": []
    },
    {
      "cell_type": "markdown",
      "metadata": {
        "id": "XkmBZ5mqbe0h",
        "colab_type": "text"
      },
      "source": [
        "### **read data from github**"
      ]
    },
    {
      "cell_type": "code",
      "metadata": {
        "id": "RUGPpOYrq0Ft",
        "colab_type": "code",
        "outputId": "1433fcdc-b0e3-4f25-fd85-8c09f6b097f9",
        "colab": {
          "base_uri": "https://localhost:8080/",
          "height": 198
        }
      },
      "source": [
        "data = pd.read_csv('https://raw.githubusercontent.com/ywchiu/riii/master/data/house-prices.csv',usecols =['Price','SqFt'])\n",
        "data.head()"
      ],
      "execution_count": 3,
      "outputs": [
        {
          "output_type": "execute_result",
          "data": {
            "text/html": [
              "<div>\n",
              "<style scoped>\n",
              "    .dataframe tbody tr th:only-of-type {\n",
              "        vertical-align: middle;\n",
              "    }\n",
              "\n",
              "    .dataframe tbody tr th {\n",
              "        vertical-align: top;\n",
              "    }\n",
              "\n",
              "    .dataframe thead th {\n",
              "        text-align: right;\n",
              "    }\n",
              "</style>\n",
              "<table border=\"1\" class=\"dataframe\">\n",
              "  <thead>\n",
              "    <tr style=\"text-align: right;\">\n",
              "      <th></th>\n",
              "      <th>Price</th>\n",
              "      <th>SqFt</th>\n",
              "    </tr>\n",
              "  </thead>\n",
              "  <tbody>\n",
              "    <tr>\n",
              "      <th>0</th>\n",
              "      <td>114300</td>\n",
              "      <td>1790</td>\n",
              "    </tr>\n",
              "    <tr>\n",
              "      <th>1</th>\n",
              "      <td>114200</td>\n",
              "      <td>2030</td>\n",
              "    </tr>\n",
              "    <tr>\n",
              "      <th>2</th>\n",
              "      <td>114800</td>\n",
              "      <td>1740</td>\n",
              "    </tr>\n",
              "    <tr>\n",
              "      <th>3</th>\n",
              "      <td>94700</td>\n",
              "      <td>1980</td>\n",
              "    </tr>\n",
              "    <tr>\n",
              "      <th>4</th>\n",
              "      <td>119800</td>\n",
              "      <td>2130</td>\n",
              "    </tr>\n",
              "  </tbody>\n",
              "</table>\n",
              "</div>"
            ],
            "text/plain": [
              "    Price  SqFt\n",
              "0  114300  1790\n",
              "1  114200  2030\n",
              "2  114800  1740\n",
              "3   94700  1980\n",
              "4  119800  2130"
            ]
          },
          "metadata": {
            "tags": []
          },
          "execution_count": 3
        }
      ]
    },
    {
      "cell_type": "markdown",
      "metadata": {
        "id": "Vh47Nspxbxjw",
        "colab_type": "text"
      },
      "source": [
        "### **creating two axis as price and area**"
      ]
    },
    {
      "cell_type": "code",
      "metadata": {
        "id": "b1CxzZiSta1q",
        "colab_type": "code",
        "colab": {}
      },
      "source": [
        "price = pd.DataFrame(data['Price'])\n",
        "area = pd.DataFrame(data['SqFt'])"
      ],
      "execution_count": 0,
      "outputs": []
    },
    {
      "cell_type": "markdown",
      "metadata": {
        "id": "7t--fYDfb7PY",
        "colab_type": "text"
      },
      "source": [
        "### **split the training and testing data set**"
      ]
    },
    {
      "cell_type": "code",
      "metadata": {
        "id": "g3mSXBJzt0WM",
        "colab_type": "code",
        "colab": {}
      },
      "source": [
        "training_area,testing_area,training_price,testing_price =train_test_split(area,price,random_state =0,test_size=.3)"
      ],
      "execution_count": 0,
      "outputs": []
    },
    {
      "cell_type": "markdown",
      "metadata": {
        "id": "QuXqYoz4b3qZ",
        "colab_type": "text"
      },
      "source": [
        "### **creating sklearn linear regression object** \n",
        "### **fit the training data set**"
      ]
    },
    {
      "cell_type": "code",
      "metadata": {
        "id": "S1zT7l7dvaic",
        "colab_type": "code",
        "outputId": "07663746-f6c2-4eb6-a09b-5af5f46d3331",
        "colab": {
          "base_uri": "https://localhost:8080/",
          "height": 35
        }
      },
      "source": [
        "reg = linear_model.LinearRegression()\n",
        "reg.fit(training_area,training_price)"
      ],
      "execution_count": 6,
      "outputs": [
        {
          "output_type": "execute_result",
          "data": {
            "text/plain": [
              "LinearRegression(copy_X=True, fit_intercept=True, n_jobs=None, normalize=False)"
            ]
          },
          "metadata": {
            "tags": []
          },
          "execution_count": 6
        }
      ]
    },
    {
      "cell_type": "markdown",
      "metadata": {
        "id": "Fh0RjgtcckMO",
        "colab_type": "text"
      },
      "source": [
        "### **predicting price by using testing data set**"
      ]
    },
    {
      "cell_type": "code",
      "metadata": {
        "id": "-cmQDG4qcnFh",
        "colab_type": "code",
        "colab": {
          "base_uri": "https://localhost:8080/",
          "height": 35
        },
        "outputId": "25f2cc0f-e35c-4b83-f16b-ab05475a0397"
      },
      "source": [
        "predict_price = reg.predict(testing_area)\n",
        "predict_price[3]"
      ],
      "execution_count": 7,
      "outputs": [
        {
          "output_type": "execute_result",
          "data": {
            "text/plain": [
              "array([120561.64793193])"
            ]
          },
          "metadata": {
            "tags": []
          },
          "execution_count": 7
        }
      ]
    },
    {
      "cell_type": "markdown",
      "metadata": {
        "id": "woebwVcscywJ",
        "colab_type": "text"
      },
      "source": [
        "### **creating scatter for training data set and plot daigram for predect set of training data set**"
      ]
    },
    {
      "cell_type": "code",
      "metadata": {
        "id": "KvdVcXQvyKQa",
        "colab_type": "code",
        "outputId": "cbedf6b5-1658-4ece-b7f1-313a99bc618b",
        "colab": {
          "base_uri": "https://localhost:8080/",
          "height": 265
        }
      },
      "source": [
        "plt.scatter(training_area,training_price,color ='red')\n",
        "plt.plot(training_area,reg.predict(training_area),'g')\n",
        "plt.grid()"
      ],
      "execution_count": 19,
      "outputs": [
        {
          "output_type": "display_data",
          "data": {
            "image/png": "[encoded data removed]",
            "text/plain": [
              "<Figure size 432x288 with 1 Axes>"
            ]
          },
          "metadata": {
            "tags": [],
            "needs_background": "light"
          }
        }
      ]
    },
    {
      "cell_type": "markdown",
      "metadata": {
        "id": "2n9VPghHdVdN",
        "colab_type": "text"
      },
      "source": [
        "### **creating scatter for testing data set and plot for predecting set of training data set**"
      ]
    },
    {
      "cell_type": "code",
      "metadata": {
        "id": "XW35PZ50zBpC",
        "colab_type": "code",
        "outputId": "5aeda731-2cef-4cbb-cc5f-51ca78f02585",
        "colab": {
          "base_uri": "https://localhost:8080/",
          "height": 283
        }
      },
      "source": [
        "plt.scatter(testing_area,testing_price)\n",
        "plt.plot(training_area,reg.predict(training_area),'r',label='plot')"
      ],
      "execution_count": 9,
      "outputs": [
        {
          "output_type": "execute_result",
          "data": {
            "text/plain": [
              "[<matplotlib.lines.Line2D at 0x7ff7e5aed3c8>]"
            ]
          },
          "metadata": {
            "tags": []
          },
          "execution_count": 9
        },
        {
          "output_type": "display_data",
          "data": {
            "image/png": "[encoded data removed]",
            "text/plain": [
              "<Figure size 432x288 with 1 Axes>"
            ]
          },
          "metadata": {
            "tags": [],
            "needs_background": "light"
          }
        }
      ]
    }
  ]
}